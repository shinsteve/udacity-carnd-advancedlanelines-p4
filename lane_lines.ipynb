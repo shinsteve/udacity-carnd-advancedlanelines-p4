{
 "cells": [
  {
   "cell_type": "markdown",
   "metadata": {},
   "source": [
    "Advanced Lane Lines\n",
    "=="
   ]
  },
  {
   "cell_type": "markdown",
   "metadata": {},
   "source": [
    "# The flow of pipeline\n",
    "1. Undistort the image with camera calibration\n",
    "1. Make binary image by threshold for color conversion and gradients\n",
    "1. Warp the image to birds eye view"
   ]
  },
  {
   "cell_type": "markdown",
   "metadata": {},
   "source": [
    "### Undistort the image with camera calibration"
   ]
  },
  {
   "cell_type": "code",
   "execution_count": null,
   "metadata": {},
   "outputs": [],
   "source": [
    "import cv2\n",
    "import pickle\n",
    "with open('calib_cam_dist_pickle.p', 'rb') as f:\n",
    "    cam_calib = pickle.load(f)\n",
    "\n",
    "def undistort(src, calib):\n",
    "    return cv2.undistort(src, calib['mtx'], calib['dist'], None, calib['mtx'])"
   ]
  },
  {
   "cell_type": "markdown",
   "metadata": {},
   "source": [
    "### Make thresholded binary image for lane lines"
   ]
  },
  {
   "cell_type": "code",
   "execution_count": null,
   "metadata": {},
   "outputs": [],
   "source": [
    "import numpy as np\n",
    "\n",
    "def binarize_for_line(src, params):\n",
    "    \n",
    "    def sobel_thresh(gray, params):\n",
    "        \n",
    "        def mag_thresh(sobelx, sobely, thr_min, thr_max):\n",
    "            # Calculate the gradient magnitude\n",
    "            gradmag = np.sqrt(sobelx**2 + sobely**2)\n",
    "            # Rescale to 8 bit\n",
    "            scale_factor = np.max(gradmag)/255 \n",
    "            gradmag = (gradmag/scale_factor).astype(np.uint8) \n",
    "            # Create a binary image of ones where threshold is met, zeros otherwise\n",
    "            binary_mag = np.zeros_like(gradmag)\n",
    "            binary_mag[(gradmag >= thr_min) & (gradmag <= thr_max)] = 1\n",
    "            return binary_mag\n",
    "        \n",
    "        def dir_thresh(sobelx, sobely, thr_min, thr_max):\n",
    "            # Take the absolute value of the gradient direction, \n",
    "            # apply a threshold, and create a binary image result\n",
    "            absgraddir = np.arctan2(np.absolute(sobely), np.absolute(sobelx))\n",
    "            binary_dir =  np.zeros_like(absgraddir)\n",
    "            binary_dir[(absgraddir >= thr_min) & (absgraddir <= thr_max)] = 1\n",
    "            return binary_dir\n",
    "        \n",
    "        gray = cv2.cvtColor(src, cv2.COLOR_RGB2GRAY)\n",
    "        # Take both Sobel x and y gradients\n",
    "        kernel_size = params['ksize']\n",
    "        sobelx = cv2.Sobel(gray, cv2.CV_64F, 1, 0, ksize=kernel_size)\n",
    "        sobely = cv2.Sobel(gray, cv2.CV_64F, 0, 1, ksize=kernel_size)\n",
    "        mag_binary = mag_thresh(sobelx, sobely, *params['mag_thr'])\n",
    "        dir_binary = dir_thresh(sobelx, sobely, *params['dir_thr'])\n",
    "        mag_and_dir = np.zeros_like(mag_binary)\n",
    "        mag_and_dir[(mag_binary == 1) & (dir_binary == 1)] = 1\n",
    "        return mag_and_dir\n",
    "    \n",
    "    def color_thresh(src, thr_min, thr_max):\n",
    "        hls = cv2.cvtColor(src, cv2.COLOR_RGB2HLS)\n",
    "        s_channel = hls[:,:,2]\n",
    "        s_binary = np.zeros_like(s_channel)\n",
    "        s_binary[(s_channel >= thr_min) & (s_channel <= thr_max)] = 1\n",
    "        return s_binary\n",
    "    \n",
    "    # Combine the two binary thresholds\n",
    "    grad_binary = sobel_thresh(src, params['sobel'])\n",
    "    color_binary = color_thresh(src, *params['color_thr'])\n",
    "    combined_binary = np.zeros_like(grad_binary)\n",
    "    combined_binary[(grad_binary == 1) & (color_binary == 1)] = 1\n",
    "    return combined_binary\n",
    "    \n",
    "    \n",
    "    "
   ]
  },
  {
   "cell_type": "markdown",
   "metadata": {},
   "source": [
    "### Warp the image to birds eye view"
   ]
  },
  {
   "cell_type": "code",
   "execution_count": null,
   "metadata": {},
   "outputs": [],
   "source": [
    "class Warper(object):\n",
    "    def __init__(self, src, dst):\n",
    "        self.M = cv2.getPerspectiveTransform(src, dst)\n",
    "        self.M_inv = cv2.getPerspectiveTransform(dst, src)\n",
    "        return\n",
    "    \n",
    "    def __call__(self, img, inverse=False):\n",
    "        mtx = self.M if not inverse else self.M_inv\n",
    "        warped = cv2.warpPerspective(img, mtx, img.shape[::-1][1:])\n",
    "        return warped\n",
    "\n",
    "\n",
    "class LaneWarper():\n",
    "    def __init__(self, w, h):\n",
    "        self.src = np.float32(\n",
    "            [[(w / 2) - 55, h / 2 + 100],\n",
    "             [((w / 6) - 10), h],\n",
    "             [(w * 5 / 6) + 60, h],\n",
    "             [(w / 2 + 55), h / 2 + 100]])\n",
    "\n",
    "        self.dst = np.float32(\n",
    "            [[(w / 4), 0],\n",
    "             [(w / 4), h],\n",
    "             [(w * 3 / 4), h],\n",
    "             [(w * 3 / 4), 0]])\n",
    "        self.warper = Warper(self.src, self.dst)\n",
    "        return\n",
    "    \n",
    "    def __call__(self, img):\n",
    "        return self.warper(img)\n",
    "\n",
    "\n",
    "IMG_WIDTH = 1280\n",
    "IMG_HEIGHT = 720\n",
    "lane_warper = LaneWarper(IMG_WIDTH, IMG_HEIGHT)"
   ]
  },
  {
   "cell_type": "code",
   "execution_count": null,
   "metadata": {},
   "outputs": [],
   "source": [
    "def show_warper_example():\n",
    "    %matplotlib inline\n",
    "    import matplotlib.pyplot as plt\n",
    "\n",
    "    src = cv2.imread('test_images/straight_lines1.jpg')\n",
    "    undistort_img = undistort(src, cam_calib)\n",
    "    \n",
    "    # Draw src of warp M in red\n",
    "    pts = lane_warper.src.astype(np.int32)\n",
    "    pts = pts.reshape((-1,1,2))\n",
    "    undistort_img = cv2.polylines(undistort_img, [pts], True, (0, 0, 255), thickness=2)\n",
    "    \n",
    "    dst = lane_warper(undistort_img)\n",
    "\n",
    "    # Draw dst of warp M in blue\n",
    "    pts = lane_warper.dst.astype(np.int32)\n",
    "    pts = pts.reshape((-1,1,2))\n",
    "    dst= cv2.polylines(dst, [pts], True, (255, 0, 0), thickness=3)\n",
    "    \n",
    "    f, (ax1, ax2) = plt.subplots(1, 2, figsize=(20, 10))\n",
    "    ax1.imshow(cv2.cvtColor(undistort_img, cv2.COLOR_BGR2RGB))\n",
    "    ax1.set_title('Undistort Image', fontsize=30)\n",
    "    ax2.imshow(cv2.cvtColor(dst, cv2.COLOR_BGR2RGB))\n",
    "    ax2.set_title('Warped Image', fontsize=30)\n",
    "    return\n",
    "\n",
    "show_warper_example()"
   ]
  },
  {
   "cell_type": "markdown",
   "metadata": {},
   "source": [
    "## Test Bench"
   ]
  },
  {
   "cell_type": "code",
   "execution_count": null,
   "metadata": {},
   "outputs": [],
   "source": [
    "%matplotlib inline\n",
    "import matplotlib.pyplot as plt\n",
    "\n",
    "src = cv2.imread('test_images/test5.jpg')\n",
    "dst = undistort(src, cam_calib)\n",
    "\n",
    "BINARIZE_PARAMS = {\n",
    "    'sobel': {\n",
    "        'ksize': 25,\n",
    "        'mag_thr': (5, 100),\n",
    "        'dir_thr': (0.6, 1.4)  \n",
    "    },\n",
    "    'color_thr': (160, 255),\n",
    "}\n",
    "\n",
    "# dst = binarize_for_line(dst, BINARIZE_PARAMS)\n",
    "dst = lane_warper(dst)\n",
    "\n",
    "f, (ax1, ax2) = plt.subplots(1, 2, figsize=(20, 10))\n",
    "ax1.imshow(cv2.cvtColor(src, cv2.COLOR_BGR2RGB))\n",
    "ax1.set_title('Original Image', fontsize=30)\n",
    "ax2.imshow(cv2.cvtColor(dst, cv2.COLOR_BGR2RGB))\n",
    "# ax2.imshow(dst, cmap='gray')\n",
    "ax2.set_title('Processed Image', fontsize=30)"
   ]
  },
  {
   "cell_type": "code",
   "execution_count": null,
   "metadata": {},
   "outputs": [],
   "source": []
  }
 ],
 "metadata": {
  "kernelspec": {
   "display_name": "Python 3",
   "language": "python",
   "name": "python3"
  },
  "language_info": {
   "codemirror_mode": {
    "name": "ipython",
    "version": 3
   },
   "file_extension": ".py",
   "mimetype": "text/x-python",
   "name": "python",
   "nbconvert_exporter": "python",
   "pygments_lexer": "ipython3",
   "version": "3.5.2"
  },
  "widgets": {
   "state": {},
   "version": "1.1.2"
  }
 },
 "nbformat": 4,
 "nbformat_minor": 2
}
